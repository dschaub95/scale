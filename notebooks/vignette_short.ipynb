{
 "cells": [
  {
   "cell_type": "code",
   "execution_count": 3,
   "metadata": {},
   "outputs": [
    {
     "name": "stdout",
     "output_type": "stream",
     "text": [
      "The autoreload extension is already loaded. To reload it, use:\n",
      "  %reload_ext autoreload\n"
     ]
    }
   ],
   "source": [
    "%load_ext autoreload\n",
    "%autoreload 2\n",
    "\n",
    "import scanpy as sc\n",
    "from pprint import pprint\n",
    "\n",
    "\n",
    "from scale.config import load_config\n",
    "from scale.utils import select_best_lambdas\n",
    "from scale.training import train\n",
    "from scale.clustering import calc_clusterings\n",
    "from scale.search import calc_stability, calc_entropy"
   ]
  },
  {
   "cell_type": "markdown",
   "metadata": {},
   "source": [
    "## Load and prepare data"
   ]
  },
  {
   "cell_type": "code",
   "execution_count": 4,
   "metadata": {},
   "outputs": [
    {
     "data": {
      "text/plain": [
       "AnnData object with n_obs × n_vars = 91118 × 480\n",
       "    obs: 'x', 'y', 'z', 'cluster', 'n_transcripts', 'density', 'elongation', 'area', 'avg_confidence', 'avg_assignment_confidence', 'max_cluster_frac', 'lifespan', 'x_centroid', 'y_centroid', 'cell_area', 'Slide_ID', 'batch', 'Patient_Sample_ID', 'Disease', 'n_genes', 'celltype_l1', 'celltype_l1_codes', 'celltype_l1_prob', 'Biopsy_ID', 'sample', 'label', 'nichepca_domain', 'nichepca_domain_tuned', 'nichepca_glom_no'\n",
       "    var: 'gene_ids', 'feature_types'\n",
       "    uns: 'celltype_l1_colors', 'log1p', 'neighbors', 'pca', 'spatial', 'umap'\n",
       "    obsm: 'X_pca', 'X_pca_harmony', 'X_umap', 'spatial'\n",
       "    varm: 'PCs'\n",
       "    layers: 'counts'\n",
       "    obsp: 'connectivities', 'distances'"
      ]
     },
     "execution_count": 4,
     "metadata": {},
     "output_type": "execute_result"
    }
   ],
   "source": [
    "path = \"/epyc/projects/Behnam/xenium-cgn/notebooks/03_image_registration/data_level_1/adata/X1.h5ad\"\n",
    "adata = sc.read_h5ad(path)\n",
    "adata"
   ]
  },
  {
   "cell_type": "code",
   "execution_count": 5,
   "metadata": {},
   "outputs": [
    {
     "data": {
      "text/plain": [
       "View of AnnData object with n_obs × n_vars = 6857 × 480\n",
       "    obs: 'x', 'y', 'z', 'cluster', 'n_transcripts', 'density', 'elongation', 'area', 'avg_confidence', 'avg_assignment_confidence', 'max_cluster_frac', 'lifespan', 'x_centroid', 'y_centroid', 'cell_area', 'Slide_ID', 'batch', 'Patient_Sample_ID', 'Disease', 'n_genes', 'celltype_l1', 'celltype_l1_codes', 'celltype_l1_prob', 'Biopsy_ID', 'sample', 'label', 'nichepca_domain', 'nichepca_domain_tuned', 'nichepca_glom_no'\n",
       "    var: 'gene_ids', 'feature_types'\n",
       "    uns: 'celltype_l1_colors', 'log1p', 'neighbors', 'pca', 'spatial', 'umap'\n",
       "    obsm: 'X_pca', 'X_pca_harmony', 'X_umap', 'spatial'\n",
       "    varm: 'PCs'\n",
       "    layers: 'counts'\n",
       "    obsp: 'connectivities', 'distances'"
      ]
     },
     "execution_count": 5,
     "metadata": {},
     "output_type": "execute_result"
    }
   ],
   "source": [
    "# use one quarter to save time\n",
    "xmin, ymin = adata.obsm[\"spatial\"].min(axis=0)\n",
    "xmax, ymax = adata.obsm[\"spatial\"].max(axis=0)\n",
    "\n",
    "adata = adata[\n",
    "    (adata.obsm[\"spatial\"][:, 0] > xmin)\n",
    "    & (adata.obsm[\"spatial\"][:, 0] < xmax / 2)\n",
    "    & (adata.obsm[\"spatial\"][:, 1] > ymin)\n",
    "    & (adata.obsm[\"spatial\"][:, 1] < ymax / 2)\n",
    "]\n",
    "adata"
   ]
  },
  {
   "cell_type": "markdown",
   "metadata": {},
   "source": [
    "## Setup config"
   ]
  },
  {
   "cell_type": "code",
   "execution_count": 6,
   "metadata": {},
   "outputs": [
    {
     "name": "stdout",
     "output_type": "stream",
     "text": [
      "{'batch_col': None,\n",
      " 'distance_set': {'start': 15, 'step': 5, 'stop': 25},\n",
      " 'knn_set': {'start': 5, 'step': 5, 'stop': 40},\n",
      " 'lambda_set': [1e-06,\n",
      "                5e-06,\n",
      "                1e-05,\n",
      "                5e-05,\n",
      "                0.0001,\n",
      "                0.0005,\n",
      "                0.001,\n",
      "                0.005,\n",
      "                0.01,\n",
      "                0.05,\n",
      "                0.1,\n",
      "                0.5,\n",
      "                1,\n",
      "                5,\n",
      "                10],\n",
      " 'lr': 0.01,\n",
      " 'max_epoch': 500,\n",
      " 'n_heads': 5,\n",
      " 'n_hidden': 15,\n",
      " 'n_repeats': 3,\n",
      " 'n_sample': None,\n",
      " 'preprocess': False,\n",
      " 'repeated_negative_sampling': False,\n",
      " 'resolution_set': {'start': 0.01, 'step': 0.1, 'stop': 1.2},\n",
      " 'spatial_graph_method': 'distance',\n",
      " 'y_aggregated': False}\n"
     ]
    }
   ],
   "source": [
    "cfg = load_config()\n",
    "cfg.distance_set.stop = 25\n",
    "cfg.resolution_set.step = 0.1\n",
    "cfg.n_repeats = 3\n",
    "\n",
    "pprint(cfg)"
   ]
  },
  {
   "cell_type": "markdown",
   "metadata": {},
   "source": [
    "## Run scale"
   ]
  },
  {
   "cell_type": "code",
   "execution_count": null,
   "metadata": {},
   "outputs": [
    {
     "name": "stdout",
     "output_type": "stream",
     "text": [
      "Using device: cuda\n"
     ]
    },
    {
     "data": {
      "application/vnd.jupyter.widget-view+json": {
       "model_id": "3fd1cfb1083c4bc59c71e94aa4ec24cc",
       "version_major": 2,
       "version_minor": 0
      },
      "text/plain": [
       "  0%|          | 0/2 [00:00<?, ?it/s]"
      ]
     },
     "metadata": {},
     "output_type": "display_data"
    },
    {
     "data": {
      "application/vnd.jupyter.widget-view+json": {
       "model_id": "fca6bf7a8cf74cba9f53e95823c326db",
       "version_major": 2,
       "version_minor": 0
      },
      "text/plain": [
       "  0%|          | 0/15 [00:00<?, ?it/s]"
      ]
     },
     "metadata": {},
     "output_type": "display_data"
    },
    {
     "data": {
      "application/vnd.jupyter.widget-view+json": {
       "model_id": "a467765e27a64340bcbc68617d2afc8a",
       "version_major": 2,
       "version_minor": 0
      },
      "text/plain": [
       "  0%|          | 0/15 [00:00<?, ?it/s]"
      ]
     },
     "metadata": {},
     "output_type": "display_data"
    }
   ],
   "source": [
    "train(adata, cfg)\n",
    "select_best_lambdas(adata)\n",
    "calc_clusterings(adata)\n",
    "calc_stability(adata, verbose=True)\n",
    "top_results = calc_entropy(adata, n_levels=3, top_n=100)\n",
    "top_results"
   ]
  },
  {
   "cell_type": "code",
   "execution_count": null,
   "metadata": {},
   "outputs": [],
   "source": [
    "adata"
   ]
  }
 ],
 "metadata": {
  "kernelspec": {
   "display_name": "npc-env",
   "language": "python",
   "name": "python3"
  },
  "language_info": {
   "codemirror_mode": {
    "name": "ipython",
    "version": 3
   },
   "file_extension": ".py",
   "mimetype": "text/x-python",
   "name": "python",
   "nbconvert_exporter": "python",
   "pygments_lexer": "ipython3",
   "version": "3.10.16"
  }
 },
 "nbformat": 4,
 "nbformat_minor": 2
}
